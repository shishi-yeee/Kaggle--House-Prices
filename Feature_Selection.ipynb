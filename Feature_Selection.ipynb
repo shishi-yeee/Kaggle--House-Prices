{
 "cells": [
  {
   "cell_type": "code",
   "execution_count": 43,
   "metadata": {},
   "outputs": [],
   "source": [
    "import pandas as pd\n",
    "import numpy as np\n",
    "\n",
    "from sklearn.ensemble import RandomForestRegressor\n",
    "from sklearn.feature_selection import SelectKBest, f_regression\n",
    "\n",
    "from scipy.stats import spearmanr, pearsonr\n",
    "\n",
    "from project_module import regression_report\n",
    "from project_module.feature_selection import SelectKBestByCoefficient\n",
    "from sklearn.feature_selection import SelectKBest, chi2"
   ]
  },
  {
   "cell_type": "code",
   "execution_count": 34,
   "metadata": {},
   "outputs": [
    {
     "name": "stdout",
     "output_type": "stream",
     "text": [
      "(1095, 89) (1095,) (365, 89) (365,)\n"
     ]
    }
   ],
   "source": [
    "# load data\n",
    "x_train = np.load('./x_train.npy')\n",
    "y_train = np.load('./y_train.npy')\n",
    "x_test = np.load('./x_test.npy')\n",
    "y_test = np.load('./y_test.npy')\n",
    "\n",
    "print(x_train.shape, y_train.shape, x_test.shape, y_test.shape)"
   ]
  },
  {
   "cell_type": "code",
   "execution_count": 66,
   "metadata": {},
   "outputs": [],
   "source": [
    "x_train=pd.DataFrame(x_train)"
   ]
  },
  {
   "cell_type": "code",
   "execution_count": 67,
   "metadata": {},
   "outputs": [],
   "source": [
    "x_train.to_csv('x_train.csv', index = False)"
   ]
  },
  {
   "cell_type": "code",
   "execution_count": 35,
   "metadata": {},
   "outputs": [],
   "source": [
    "def get_RF(params: dict) -> RandomForestRegressor:\n",
    "    RF = RandomForestRegressor(**params)\n",
    "    return RF\n",
    "\n",
    "best_params = {\n",
    "    'n_estimators': 68, 'min_samples_split': 2, \n",
    "    'min_impurity_decrease': 0.8304579924331754, \n",
    "    'max_depth': 16, 'criterion': 'mae', \n",
    "    'ccp_alpha': 2.3855551842621, 'n_jobs' : 4, \n",
    "    'warm_start': False\n",
    "}"
   ]
  },
  {
   "cell_type": "code",
   "execution_count": 36,
   "metadata": {},
   "outputs": [
    {
     "name": "stdout",
     "output_type": "stream",
     "text": [
      "mse = 1125365675.0065\n",
      "mae = 18470.9482\n",
      "rmse = 33546.4704\n",
      "mape = 0.1039\n"
     ]
    }
   ],
   "source": [
    "RF = get_RF(best_params)\n",
    "RF.fit(x_train, y_train)\n",
    "\n",
    "pred = RF.predict(x_test)\n",
    "regression_report(y_test, pred)"
   ]
  },
  {
   "cell_type": "markdown",
   "metadata": {},
   "source": [
    "## [Filter method](https://scikit-learn.org/stable/modules/generated/sklearn.feature_selection.SelectKBest.html#sklearn.feature_selection.SelectKBest)\n",
    "1. [Pearson coefficient](https://docs.scipy.org/doc/scipy/reference/generated/scipy.stats.pearsonr.html)\n",
    "2. [Spearman coefficient](https://docs.scipy.org/doc/scipy/reference/generated/scipy.stats.spearmanr.html)"
   ]
  },
  {
   "cell_type": "code",
   "execution_count": 39,
   "metadata": {},
   "outputs": [
    {
     "name": "stdout",
     "output_type": "stream",
     "text": [
      "mse = 1141297439.9089\n",
      "mae = 18242.0196\n",
      "rmse = 33783.0940\n",
      "mape = 0.1033\n"
     ]
    }
   ],
   "source": [
    "# pearson coefficient\n",
    "pearson_selector = SelectKBestByCoefficient(k = 89, method = 'pearson').fit(x_train, y_train)\n",
    "x_train_new = pearson_selector.transform(x_train)\n",
    "x_test_new = pearson_selector.transform(x_test)\n",
    "\n",
    "RF = get_RF(best_params)\n",
    "RF.fit(x_train_new, y_train)\n",
    "\n",
    "pred = RF.predict(x_test_new)\n",
    "\n",
    "regression_report(y_test, pred)"
   ]
  },
  {
   "cell_type": "code",
   "execution_count": 48,
   "metadata": {},
   "outputs": [],
   "source": [
    "b=pearson_selector.select_idx"
   ]
  },
  {
   "cell_type": "code",
   "execution_count": 57,
   "metadata": {},
   "outputs": [
    {
     "data": {
      "text/plain": [
       "[array([70, 22, 24, 21, 68, 34, 44, 58, 37,  0, 69, 35, 54, 52, 50, 16, 15,\n",
       "         3, 18,  7, 32, 20, 55, 61, 36, 67, 17, 27, 31, 59,  4, 45, 41,  5,\n",
       "        12, 51, 14, 46, 23, 13, 11,  6,  8, 26, 25, 30, 76, 63, 64, 65, 77,\n",
       "        60, 29, 38, 42, 78, 33, 62, 83, 28, 56, 47, 84, 86, 79, 80, 82, 48,\n",
       "        88, 75, 72, 73, 71, 87, 40, 57, 49, 53, 85, 81, 39, 66, 74, 43, 10,\n",
       "         1,  2,  9, 19], dtype=int64)]"
      ]
     },
     "execution_count": 57,
     "metadata": {},
     "output_type": "execute_result"
    }
   ],
   "source": [
    "mask = np.zeros(b.shape, dtype=bool)\n",
    "mask=[np.argsort(b, kind=\"mergesort\")[-89:]]\n",
    "mask"
   ]
  },
  {
   "cell_type": "code",
   "execution_count": 6,
   "metadata": {},
   "outputs": [
    {
     "name": "stdout",
     "output_type": "stream",
     "text": [
      "mse = 1062986453.7622\n",
      "mae = 18326.8367\n",
      "rmse = 32603.4730\n",
      "mape = 0.1028\n"
     ]
    }
   ],
   "source": [
    "# Spearman coefficient\n",
    "spearman_selector = SelectKBestByCoefficient(k = 30, method = 'spearman').fit(x_train, y_train)\n",
    "x_train_new = spearman_selector.transform(x_train)\n",
    "x_test_new = spearman_selector.transform(x_test)\n",
    "\n",
    "RF = get_RF(best_params)\n",
    "RF.fit(x_train_new, y_train)\n",
    "\n",
    "pred = RF.predict(x_test_new)\n",
    "\n",
    "regression_report(y_test, pred)"
   ]
  },
  {
   "cell_type": "code",
   "execution_count": null,
   "metadata": {},
   "outputs": [],
   "source": [
    "spearman_selector."
   ]
  },
  {
   "cell_type": "code",
   "execution_count": 109,
   "metadata": {},
   "outputs": [
    {
     "name": "stdout",
     "output_type": "stream",
     "text": [
      "mse = 1121538930.8331\n",
      "mae = 18272.1841\n",
      "rmse = 33489.3853\n",
      "mape = 0.1038\n"
     ]
    }
   ],
   "source": [
    "# Anova for regression\n",
    "anova_selector = SelectKBest(score_func = f_regression, k = 30).fit(x_train, y_train)\n",
    "x_train_new = anova_selector.transform(x_train)\n",
    "x_test_new = anova_selector.transform(x_test)\n",
    "\n",
    "RF = get_RF(best_params)\n",
    "RF.fit(x_train_new, y_train)\n",
    "\n",
    "pred = RF.predict(x_test_new)\n",
    "\n",
    "regression_report(y_test, pred)"
   ]
  },
  {
   "cell_type": "code",
   "execution_count": null,
   "metadata": {},
   "outputs": [],
   "source": []
  },
  {
   "cell_type": "code",
   "execution_count": 31,
   "metadata": {},
   "outputs": [],
   "source": [
    "from scipy.stats import spearmanr, pearsonr\n",
    "import numpy as np\n",
    "\n",
    "def my_pearsonr(x, y):\n",
    "    row, col = x.shape\n",
    "    coef_arr = np.zeros(col)\n",
    "    p_val_arr = np.zeros(col)\n",
    "    \n",
    "    for i in range(col):\n",
    "        coef_arr[i], p_val_arr[i] = pearsonr(x[:, i], y)\n",
    "        \n",
    "    return coef_arr, p_val_arr\n",
    "\n",
    "def my_spearmanr(x, y):\n",
    "    coef_arr, p_val_arr = spearmanr(x, y)\n",
    "    coef_arr = coef_arr[: -1, -1]\n",
    "    p_val_arr = p_val_arr[: -1, -1]\n",
    "    \n",
    "    return coef_arr, p_val_arr\n",
    "    \n",
    "\n",
    "class SelectKBestByCoefficient():\n",
    "    def __init__(self, k: int, method: str = 'pearson'):\n",
    "        self.k = k\n",
    "        if method == 'pearson':\n",
    "            self.func = my_pearsonr\n",
    "        elif method == 'spearman':\n",
    "            self.func = my_spearmanr\n",
    "        \n",
    "    def fit(self, X, Y):\n",
    "        x, y = np.array(X), np.array(Y)\n",
    "        \n",
    "        corr, p = self.func(x, y)\n",
    "        self.corr=corr\n",
    "        self.p=p\n",
    "        self.select_idx = np.argsort(np.abs(corr))[:: -1][: self.k]\n",
    "        select_idx = np.argsort(np.abs(corr))[:: -1][: self.k]\n",
    "        print(select_idx)\n",
    "        return self\n",
    "        \n",
    "    def transform(self, X):\n",
    "        x = np.array(X)\n",
    "        x_new = x[:, self.select_idx]\n",
    "        \n",
    "        return x_new"
   ]
  },
  {
   "cell_type": "code",
   "execution_count": 32,
   "metadata": {},
   "outputs": [
    {
     "name": "stdout",
     "output_type": "stream",
     "text": [
      "[ 9 85 86 17 30 33 41 19 42 87 84 40 34 39 36 16 15 26 18 88 21  3  1 38\n",
      "  2 44 43 27 59 52]\n"
     ]
    }
   ],
   "source": [
    "# pearson coefficient\n",
    "pearson_selector = SelectKBestByCoefficient(k = 30, method = 'pearson').fit(x_train, y_train)"
   ]
  },
  {
   "cell_type": "code",
   "execution_count": 30,
   "metadata": {},
   "outputs": [
    {
     "name": "stdout",
     "output_type": "stream",
     "text": [
      "[-5.85622506e-02  3.38581100e-01  3.17094578e-01  3.73987805e-01\n",
      "  6.99072838e-02  2.01707830e-01  1.26466866e-01  9.17614416e-02\n",
      "  1.76342610e-01  7.87125875e-01 -6.04879352e-02  1.84059227e-01\n",
      "  1.09029488e-01  1.10815899e-01  1.16352068e-01  4.40556631e-01\n",
      "  4.68105676e-01  6.82015469e-01  3.97035851e-01  6.36654617e-01\n",
      "  2.21611784e-01  3.83763493e-01 -1.06762339e-01  8.23051376e-02\n",
      "  1.80846593e-01 -7.01656277e-02 -4.10657043e-01  2.45461249e-01\n",
      "  2.26516468e-01 -8.39125919e-02  6.79693219e-01  1.25894186e-01\n",
      " -1.37861507e-01  6.73170667e-01  4.96022409e-01  1.11915715e-01\n",
      "  4.72688964e-01 -1.22402050e-01 -3.35580763e-01  4.78037717e-01\n",
      "  5.57488865e-01  6.39440068e-01  6.35906789e-01  2.79460256e-01\n",
      "  2.81123014e-01  2.37514101e-01  2.80481877e-02 -7.83145571e-02\n",
      " -7.33651567e-02  7.15098698e-02 -2.46363223e-02 -8.30601422e-02\n",
      "  2.37923646e-01 -1.59180465e-01  1.31630605e-01 -1.82001974e-02\n",
      "  2.19894343e-01  7.93789942e-02  1.30415724e-02 -2.43367556e-01\n",
      " -1.06680493e-01  1.21722870e-01  1.18068763e-02 -7.35216570e-03\n",
      "  1.66870778e-02 -1.66870778e-02 -1.35597038e-02  1.19400099e-01\n",
      "  8.71851941e-06  3.80374094e-02 -5.31249335e-02 -4.99368951e-02\n",
      "  5.59908713e-02 -5.18242944e-03  1.40264998e-01 -1.01704778e-01\n",
      " -1.17928070e-01 -1.09774674e-01  1.00565465e-02  1.47793659e-02\n",
      " -1.46784562e-01 -7.02260345e-02 -4.07801463e-02  1.27703526e-01\n",
      "  5.94497279e-01  7.60726171e-01  6.94097780e-01  6.23175655e-01\n",
      "  3.91032253e-01]\n",
      "[68 73 63 78 62 58 66 79 65 64 55 50 46 69 82 71 70 72  0 10  4 25 81 49\n",
      " 48 47 57 23 51 29  7 75 60 22 12 77 13 35 14 76 67 61 37 31  6 83 54 32\n",
      " 74 80 53  8 24 11  5 56 20 28 45 52 59 27 43 44  2 38  1  3 21 88 18 26\n",
      " 15 16 36 39 34 40 84 87 42 19 41 33 30 17 86 85  9]\n",
      "[ 9 85 86 17 30 33 41 19 42 87 84 40 34 39 36 16 15 26 18 88 21  3  1 38\n",
      "  2 44 43 27 59 52 45 28 20 56  5 11 24  8 53 80 74 32 54 83  6 31 37 61\n",
      " 67 76 14 35 13 77 12 22 60 75  7 29 51 23 57 47 48 49 81 25  4 10  0 72\n",
      " 70 71 82 69 46 50 55 64 65 79 66 58 62 78 63 73 68]\n"
     ]
    }
   ],
   "source": [
    "corr=pearson_selector.corr\n",
    "print(corr)\n",
    "print(np.argsort(np.abs(corr)))\n",
    "print(np.argsort(np.abs(corr))[:: -1])"
   ]
  },
  {
   "cell_type": "code",
   "execution_count": 25,
   "metadata": {},
   "outputs": [
    {
     "name": "stdout",
     "output_type": "stream",
     "text": [
      "[5.27062056e-002 8.94625945e-031 5.32818926e-027 1.11533905e-037\n",
      " 2.06965116e-002 1.62355833e-011 2.70510113e-005 2.37046495e-003\n",
      " 4.23490752e-009 1.28286413e-231 4.53773457e-002 8.45160692e-010\n",
      " 3.00892152e-004 2.38672442e-004 1.13899980e-004 3.33005408e-053\n",
      " 1.01675394e-060 1.06965578e-150 1.16636161e-042 1.66056378e-125\n",
      " 1.19487998e-013 9.62671308e-040 4.01747302e-004 6.42907128e-003\n",
      " 1.66737692e-009 2.02304551e-002 8.55265262e-046 1.72782144e-016\n",
      " 3.30292281e-014 5.46166509e-003 2.69046153e-149 2.94327371e-005\n",
      " 4.68068194e-006 1.97293111e-145 4.54180529e-069 2.06595346e-004\n",
      " 4.88434133e-062 4.88561271e-005 3.14096858e-030 1.33246168e-063\n",
      " 1.96440913e-090 6.24393305e-127 3.98364602e-125 4.28409714e-021\n",
      " 2.45045873e-021 1.65497338e-015 3.53792139e-001 9.52776492e-003\n",
      " 1.51735304e-002 1.79501273e-002 4.15399968e-001 5.95699449e-003\n",
      " 1.47599101e-015 1.18894652e-007 1.24353822e-005 5.47426604e-001\n",
      " 1.86111436e-013 8.59237275e-003 6.66409266e-001 3.15831508e-016\n",
      " 4.05919979e-004 5.38332074e-005 6.96339744e-001 8.07994289e-001\n",
      " 5.81225031e-001 5.81225031e-001 6.54002114e-001 7.47282498e-005\n",
      " 9.99770071e-001 2.08498374e-001 7.88873396e-002 9.86173151e-002\n",
      " 6.40087788e-002 8.63991076e-001 3.17396085e-006 7.50619276e-004\n",
      " 9.17127555e-005 2.73290105e-004 7.39581705e-001 6.25175255e-001\n",
      " 1.07105422e-006 2.01228086e-002 1.77508325e-001 2.25171066e-005\n",
      " 1.28870094e-105 2.17680749e-207 3.36098561e-158 8.16567670e-119\n",
      " 2.52759815e-041]\n",
      "[ 9 85 86 17 30 33 41 19 42 87 84 40 34 39 36 16 15 26 18 88 21  3  1 38\n",
      "  2 44 43 27 59 52 45 28 20 56  5 11 24  8 53 80 74 32 54 83  6 31 37 61\n",
      " 67 76 14 35 13 77 12 22 60 75  7 29 51 23 57 47 48 49 81 25  4 10  0 72\n",
      " 70 71 82 69 46 50 55 65 64 79 66 58 62 78 63 73 68]\n"
     ]
    }
   ],
   "source": [
    "p=pearson_selector.p\n",
    "print(p)\n",
    "print(np.argsort(np.abs(p)))"
   ]
  },
  {
   "cell_type": "code",
   "execution_count": 74,
   "metadata": {
    "scrolled": true
   },
   "outputs": [
    {
     "data": {
      "text/plain": [
       "(1095, 89)"
      ]
     },
     "execution_count": 74,
     "metadata": {},
     "output_type": "execute_result"
    }
   ],
   "source": [
    "df = pd.read_csv('x_train.csv')\n",
    "df.shape"
   ]
  },
  {
   "cell_type": "code",
   "execution_count": 76,
   "metadata": {},
   "outputs": [
    {
     "data": {
      "text/plain": [
       "array([2.44464510e-01, 2.81974221e-01, 6.82221630e-02, 3.12244131e-03,\n",
       "       2.47918462e-02, 7.36123257e-03, 8.22050879e-03, 1.52754666e-02,\n",
       "       2.84774652e-02, 1.98359211e-02, 3.90832929e-02, 3.93972665e-03,\n",
       "       5.17304428e-03, 1.56655933e-02, 7.35335107e-03, 1.39267645e-02,\n",
       "       2.68910405e-03, 2.64627345e-03, 1.85415589e-03, 1.56668915e-02,\n",
       "       5.49750127e-03, 2.11023288e-02, 6.25185784e-03, 6.16733799e-03,\n",
       "       1.43264958e-02, 9.67153969e-04, 1.28255044e-03, 3.08073447e-03,\n",
       "       2.34150054e-03, 4.76027314e-03, 1.26897507e-03, 9.71033475e-04,\n",
       "       1.38564071e-03, 1.61436630e-03, 1.25958608e-02, 2.63424012e-03,\n",
       "       1.55414243e-02, 3.12136011e-03, 3.35215838e-04, 2.64158717e-04,\n",
       "       5.33569582e-04, 1.12168217e-03, 3.58534179e-04, 8.11212230e-04,\n",
       "       2.22822179e-03, 4.86714026e-03, 4.40703037e-03, 2.00426752e-03,\n",
       "       1.29901335e-03, 4.04681203e-04, 4.75299213e-03, 2.38896679e-03,\n",
       "       4.18869180e-03, 2.57971290e-04, 1.87435222e-03, 3.78730923e-03,\n",
       "       7.24374778e-04, 1.44748451e-04, 2.37999613e-04, 1.63337444e-04,\n",
       "       1.94030154e-03, 1.85303997e-03, 3.43190542e-04, 2.69711163e-04,\n",
       "       4.27957945e-04, 1.04754926e-02, 7.90412300e-04, 2.21002593e-04,\n",
       "       3.16896119e-05, 1.22134822e-02, 3.62891002e-03, 9.68732442e-04,\n",
       "       1.42260546e-03, 1.18361316e-03, 3.43314961e-06, 5.71992441e-05,\n",
       "       3.54386075e-04, 5.76205271e-03, 7.22507541e-04, 4.96264066e-06,\n",
       "       2.24178199e-06, 1.84056381e-05, 1.42842318e-03, 2.44126545e-04,\n",
       "       4.04302433e-04, 4.66488648e-04, 2.39799261e-03, 1.58472528e-04,\n",
       "       3.94784096e-04])"
      ]
     },
     "execution_count": 76,
     "metadata": {},
     "output_type": "execute_result"
    }
   ],
   "source": [
    "importance_idx = RF.feature_importances_\n",
    "importance_idx"
   ]
  },
  {
   "cell_type": "code",
   "execution_count": 77,
   "metadata": {},
   "outputs": [
    {
     "data": {
      "text/plain": [
       "array([80, 74, 79, 81, 68, 75, 57, 87, 59, 67, 58, 83, 53, 39, 63, 38, 62,\n",
       "       76, 42, 88, 84, 49, 64, 85, 40, 78, 56, 66, 43, 25, 71, 31, 41, 73,\n",
       "       30, 26, 48, 32, 72, 82, 33, 61, 18, 54, 60, 47, 44, 28, 51, 86, 35,\n",
       "       17, 16, 27, 37,  3, 70, 55, 11, 52, 46, 50, 29, 45, 12, 20, 77, 23,\n",
       "       22, 14,  5,  6, 65, 69, 34, 15, 24,  7, 36, 13, 19,  9, 21,  4,  8,\n",
       "       10,  2,  0,  1], dtype=int64)"
      ]
     },
     "execution_count": 77,
     "metadata": {},
     "output_type": "execute_result"
    }
   ],
   "source": [
    "importance_idx1=np.argsort(RF.feature_importances_)\n",
    "importance_idx1"
   ]
  },
  {
   "cell_type": "code",
   "execution_count": 79,
   "metadata": {},
   "outputs": [
    {
     "data": {
      "text/plain": [
       "array([ 1,  0,  2, 10,  8,  4, 21,  9, 19, 13, 36,  7, 24, 15, 34, 69, 65,\n",
       "        6,  5, 14, 22, 23, 77, 20, 12, 45, 29, 50, 46, 52, 11, 55, 70,  3,\n",
       "       37, 27, 16, 17, 35, 86, 51, 28, 44, 47, 60, 54, 18, 61, 33, 82, 72,\n",
       "       32, 48, 26, 30, 73, 41, 31, 71, 25, 43, 66, 56, 78, 40, 85, 64, 49,\n",
       "       84, 88, 42, 76, 62, 38, 63, 39, 53, 83, 58, 67, 59, 87, 57, 75, 68,\n",
       "       81, 79, 74, 80], dtype=int64)"
      ]
     },
     "execution_count": 79,
     "metadata": {},
     "output_type": "execute_result"
    }
   ],
   "source": [
    "importance_idx = np.argsort(RF.feature_importances_)[::-1]\n",
    "importance_idx"
   ]
  },
  {
   "cell_type": "code",
   "execution_count": 80,
   "metadata": {},
   "outputs": [
    {
     "data": {
      "text/plain": [
       "array([ 1,  0,  2, 10,  8,  4, 21,  9, 19, 13, 36,  7, 24, 15, 34, 69, 65,\n",
       "        6,  5, 14, 22, 23, 77, 20, 12, 45, 29, 50, 46, 52, 11, 55, 70,  3,\n",
       "       37, 27, 16, 17, 35, 86, 51, 28, 44, 47, 60, 54, 18, 61, 33, 82, 72,\n",
       "       32, 48, 26, 30, 73, 41, 31, 71, 25, 43, 66, 56, 78, 40, 85, 64, 49,\n",
       "       84, 88, 42, 76, 62, 38, 63, 39, 53, 83, 58, 67, 59, 87, 57, 75, 68,\n",
       "       81, 79, 74, 80], dtype=int64)"
      ]
     },
     "execution_count": 80,
     "metadata": {},
     "output_type": "execute_result"
    }
   ],
   "source": [
    "importance_idx = np.argsort(RF.feature_importances_)[::-1]\n",
    "importance_idx"
   ]
  },
  {
   "cell_type": "code",
   "execution_count": 71,
   "metadata": {},
   "outputs": [],
   "source": [
    "import matplotlib.pyplot as plt\n",
    "import seaborn as sns"
   ]
  },
  {
   "cell_type": "code",
   "execution_count": 82,
   "metadata": {},
   "outputs": [],
   "source": [
    "importance_idx = np.argsort(RF.feature_importances_)[::-1]\n",
    "importance = RF.feature_importances_[importance_idx]\n",
    "impo_label = df.columns[importance_idx]"
   ]
  },
  {
   "cell_type": "code",
   "execution_count": 85,
   "metadata": {},
   "outputs": [
    {
     "data": {
      "text/plain": [
       "array([ 1,  0,  2, 10,  8,  4, 21,  9, 19, 13, 36,  7, 24, 15, 34, 69, 65,\n",
       "        6,  5, 14, 22, 23, 77, 20, 12, 45, 29, 50, 46, 52, 11, 55, 70,  3,\n",
       "       37, 27, 16, 17, 35, 86, 51, 28, 44, 47, 60, 54, 18, 61, 33, 82, 72,\n",
       "       32, 48, 26, 30, 73, 41, 31, 71, 25, 43, 66, 56, 78, 40, 85, 64, 49,\n",
       "       84, 88, 42, 76, 62, 38, 63, 39, 53, 83, 58, 67, 59, 87, 57, 75, 68,\n",
       "       81, 79, 74, 80], dtype=int64)"
      ]
     },
     "execution_count": 85,
     "metadata": {},
     "output_type": "execute_result"
    }
   ],
   "source": [
    "importance_idx"
   ]
  },
  {
   "cell_type": "code",
   "execution_count": 83,
   "metadata": {},
   "outputs": [
    {
     "data": {
      "image/png": "[encoded data removed]",
      "text/plain": [
       "<Figure size 1200x240 with 1 Axes>"
      ]
     },
     "metadata": {
      "needs_background": "light"
     },
     "output_type": "display_data"
    }
   ],
   "source": [
    "plt.figure(figsize = (20, 4), dpi = 60)\n",
    "plt.bar(impo_label, importance)\n",
    "plt.xticks(rotation='vertical')\n",
    "plt.show()"
   ]
  },
  {
   "cell_type": "code",
   "execution_count": null,
   "metadata": {},
   "outputs": [],
   "source": []
  }
 ],
 "metadata": {
  "interpreter": {
   "hash": "aee8b7b246df8f9039afb4144a1f6fd8d2ca17a180786b69acc140d282b71a49"
  },
  "kernelspec": {
   "display_name": "Python 3",
   "language": "python",
   "name": "python3"
  },
  "language_info": {
   "codemirror_mode": {
    "name": "ipython",
    "version": 3
   },
   "file_extension": ".py",
   "mimetype": "text/x-python",
   "name": "python",
   "nbconvert_exporter": "python",
   "pygments_lexer": "ipython3",
   "version": "3.8.8"
  }
 },
 "nbformat": 4,
 "nbformat_minor": 2
}
