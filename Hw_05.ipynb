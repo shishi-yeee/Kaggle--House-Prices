{
 "cells": [
  {
   "cell_type": "code",
   "execution_count": 1,
   "metadata": {},
   "outputs": [],
   "source": [
    "import pandas as pd\n",
    "import numpy as np\n",
    "import matplotlib.pyplot as plt\n",
    "\n",
    "from sklearn.model_selection import train_test_split\n",
    "from sklearn.tree import DecisionTreeRegressor\n",
    "from sklearn.metrics import mean_squared_error as MSE\n",
    "from sklearn.metrics import mean_absolute_error as MAE\n",
    "from sklearn.metrics import mean_absolute_percentage_error as MAPE"
   ]
  },
  {
   "cell_type": "markdown",
   "metadata": {},
   "source": [
    "## 解題步驟：\n",
    "\n",
    "1. 讀取 x_train.npy, y_train.npy, x_test.npy, y_test.npy\n",
    "2. 將 training dataset 再切分為 training set, validation set (圖一)\n",
    "3. 先以上課的知識調整出一個不會 over-fitting 太多的決策樹模型\n",
    "4. 以 validation set 作為調整參數的基準，陸續調整其他參數 (請同學測試看看 validation 要佔多少比例，後續的調整會比較客觀)\n",
    "5. 將最終調整結果與一開始的決策樹做比較，誤差是否有降低\n",
    "6. 同學若也懂其他模型的知識也可以試試看一樣的做法比較看看\n",
    "\n",
    "#### 圖一 (Train, Validation and Test)\n",
    "<img src=\"./train_val_test.png\" style=\"zoom:30%;\" />\n",
    "\n",
    "#### 圖二 (是我前後調整的結果)\n",
    "<img src=\"./report.png\" style=\"zoom:30%;\" />"
   ]
  },
  {
   "cell_type": "code",
   "execution_count": 2,
   "metadata": {},
   "outputs": [
    {
     "name": "stdout",
     "output_type": "stream",
     "text": [
      "(876, 89) (876,)\n",
      "(219, 89) (219,)\n",
      "(365, 89) (365,)\n"
     ]
    }
   ],
   "source": [
    "# Read data\n",
    "x_train = np.load('x_train.npy')\n",
    "x_test = np.load('x_test.npy')\n",
    "y_train = np.load('y_train.npy')\n",
    "y_test = np.load('y_test.npy')\n",
    "\n",
    "x_train, x_val, y_train, y_val = train_test_split(x_train, y_train, test_size = 0.2)\n",
    "\n",
    "print(x_train.shape, y_train.shape)\n",
    "print(x_val.shape, y_val.shape)\n",
    "print(x_test.shape, y_test.shape)"
   ]
  },
  {
   "cell_type": "code",
   "execution_count": 3,
   "metadata": {},
   "outputs": [],
   "source": [
    "def regression_report(y_true, pred, verbose = True):\n",
    "    mse = MSE(y_true, pred)\n",
    "    mae = MAE(y_true, pred)\n",
    "    rmse = np.sqrt(mse)\n",
    "    mape = MAPE(y_true, pred)\n",
    "    print(f'mse = {mse:.4f}')\n",
    "    print(f'mae = {mae:.4f}')\n",
    "    print(f'rmse = {rmse:.4f}')\n",
    "    print(f'mape = {mape:.4f}')"
   ]
  },
  {
   "cell_type": "markdown",
   "metadata": {},
   "source": [
    "## 請同學先依照上課的知識，調整一個沒有 overfitting 的決策樹，請以 mape 作為參考誤差指標，較容易看出關係"
   ]
  },
  {
   "cell_type": "code",
   "execution_count": 4,
   "metadata": {},
   "outputs": [
    {
     "name": "stdout",
     "output_type": "stream",
     "text": [
      "Train report\n",
      "mse = 1314850597.5382\n",
      "mae = 22679.0582\n",
      "rmse = 36260.8687\n",
      "mape = 0.1371\n",
      "\n",
      "Validation report\n",
      "mse = 1382411835.8642\n",
      "mae = 27739.2671\n",
      "rmse = 37180.7993\n",
      "mape = 0.1554\n",
      "\n",
      "Test report\n",
      "mse = 2208767536.3541\n",
      "mae = 27424.9137\n",
      "rmse = 46997.5269\n",
      "mape = 0.1498\n"
     ]
    }
   ],
   "source": [
    "DT = DecisionTreeRegressor(\n",
    "    criterion = 'mae', max_depth = 25, min_samples_split = 3,\n",
    "    min_samples_leaf = 4, max_features = 'sqrt', ccp_alpha = 200)\n",
    "DT.fit(x_train, y_train)\n",
    "\n",
    "print('Train report')\n",
    "pred = DT.predict(x_train)\n",
    "regression_report(y_train, pred)\n",
    "\n",
    "print()\n",
    "\n",
    "print('Validation report')\n",
    "pred = DT.predict(x_val)\n",
    "regression_report(y_val, pred)\n",
    "\n",
    "print()\n",
    "\n",
    "print('Test report')\n",
    "pred = DT.predict(x_test)\n",
    "regression_report(y_test, pred)"
   ]
  },
  {
   "cell_type": "markdown",
   "metadata": {},
   "source": [
    "## 調整 決策樹參數\n",
    "### 請同學從 criterion 的設定中，判斷這組資料集裡的 outlier 多嗎？"
   ]
  },
  {
   "cell_type": "code",
   "execution_count": 5,
   "metadata": {},
   "outputs": [
    {
     "data": {
      "image/png": "[encoded data removed]",
      "text/plain": [
       "<Figure size 720x240 with 2 Axes>"
      ]
     },
     "metadata": {
      "needs_background": "light"
     },
     "output_type": "display_data"
    }
   ],
   "source": [
    "params = ['mse', 'mae', 'friedman_mse', 'poisson']\n",
    "train_loss = np.zeros(len(params))\n",
    "val_loss = np.zeros(len(params))\n",
    "\n",
    "for i, param in enumerate(params):\n",
    "    DT = DecisionTreeRegressor(\n",
    "            criterion = param, max_depth = 25, min_samples_split = 3, \n",
    "            min_samples_leaf = 4, max_features = 'sqrt', ccp_alpha = 200)\n",
    "    DT.fit(x_train, y_train)\n",
    "    \n",
    "    pred = DT.predict(x_train)\n",
    "    train_loss[i] = MAPE(pred, y_train)\n",
    "    \n",
    "    pred = DT.predict(x_val)\n",
    "    val_loss[i] = MAPE(pred, y_val)\n",
    "    \n",
    "plt.figure(figsize = (12,4), dpi = 60)\n",
    "plt.subplot(1, 2, 1)\n",
    "plt.title('train')\n",
    "plt.scatter(x = params, y= train_loss)\n",
    "\n",
    "plt.subplot(1, 2, 2)\n",
    "plt.title('val')\n",
    "plt.scatter(x = params, y= val_loss)\n",
    "\n",
    "plt.show()"
   ]
  },
  {
   "cell_type": "code",
   "execution_count": 14,
   "metadata": {},
   "outputs": [
    {
     "data": {
      "image/png": "[encoded data removed]",
      "text/plain": [
       "<Figure size 720x240 with 2 Axes>"
      ]
     },
     "metadata": {
      "needs_background": "light"
     },
     "output_type": "display_data"
    }
   ],
   "source": [
    "# Tuning max_depth\n",
    "params = np.arange(5, 50, 3)\n",
    "train_loss = np.zeros(len(params))\n",
    "val_loss = np.zeros(len(params))\n",
    "\n",
    "for i, param in enumerate(params):\n",
    "    DT = DecisionTreeRegressor(\n",
    "                criterion = 'friedman_mse', max_depth = param, min_samples_split = 3,\n",
    "                min_samples_leaf = 4, max_features = 'sqrt', ccp_alpha = 200\n",
    "            )\n",
    "    DT.fit(x_train, y_train)\n",
    "\n",
    "    pred = DT.predict(x_train)\n",
    "    train_loss[i] = MAPE(pred, y_train)\n",
    "\n",
    "    pred = DT.predict(x_val)\n",
    "    val_loss[i] = MAPE(pred, y_val)\n",
    "\n",
    "plt.figure(figsize=(12, 4), dpi = 60)\n",
    "plt.subplot(1, 2, 1)\n",
    "plt.title('train')\n",
    "plt.scatter(x = params, y = train_loss)\n",
    "\n",
    "plt.subplot(1, 2, 2)\n",
    "plt.title('val')\n",
    "plt.scatter(x = params, y = val_loss)\n",
    "\n",
    "plt.show()"
   ]
  },
  {
   "cell_type": "code",
   "execution_count": 15,
   "metadata": {},
   "outputs": [
    {
     "data": {
      "image/png": "[encoded data removed]",
      "text/plain": [
       "<Figure size 720x240 with 2 Axes>"
      ]
     },
     "metadata": {
      "needs_background": "light"
     },
     "output_type": "display_data"
    }
   ],
   "source": [
    "# Tuning min_samples_split\n",
    "params = np.arange(2, 10, 1)\n",
    "train_loss = np.zeros(len(params))\n",
    "val_loss = np.zeros(len(params))\n",
    "\n",
    "for i, param in enumerate(params):\n",
    "    DT = DecisionTreeRegressor(\n",
    "                criterion = 'friedman_mse', max_depth = 25, min_samples_split = param,\n",
    "                min_samples_leaf = 4, max_features = 'sqrt', ccp_alpha = 200\n",
    "            )\n",
    "    DT.fit(x_train, y_train)\n",
    "\n",
    "    pred = DT.predict(x_train)\n",
    "    train_loss[i] = MAPE(pred, y_train)\n",
    "\n",
    "    pred = DT.predict(x_val)\n",
    "    val_loss[i] = MAPE(pred, y_val)\n",
    "\n",
    "plt.figure(figsize=(12, 4), dpi = 60)\n",
    "plt.subplot(1, 2, 1)\n",
    "plt.title('train')\n",
    "plt.scatter(x = params, y = train_loss)\n",
    "\n",
    "plt.subplot(1, 2, 2)\n",
    "plt.title('val')\n",
    "plt.scatter(x = params, y = val_loss)\n",
    "\n",
    "plt.show()"
   ]
  },
  {
   "cell_type": "code",
   "execution_count": 16,
   "metadata": {},
   "outputs": [
    {
     "data": {
      "image/png": "[encoded data removed]",
      "text/plain": [
       "<Figure size 720x240 with 2 Axes>"
      ]
     },
     "metadata": {
      "needs_background": "light"
     },
     "output_type": "display_data"
    }
   ],
   "source": [
    "# Tuning min_samples_leaf\n",
    "params = np.arange(2, 30, 2)\n",
    "train_loss = np.zeros(len(params))\n",
    "val_loss = np.zeros(len(params))\n",
    "\n",
    "for i, param in enumerate(params):\n",
    "    DT = DecisionTreeRegressor(\n",
    "                criterion = 'friedman_mse', max_depth = 25, min_samples_split = 5,\n",
    "                min_samples_leaf = param, max_features = 'sqrt', ccp_alpha = 200\n",
    "            )\n",
    "    DT.fit(x_train, y_train)\n",
    "\n",
    "    pred = DT.predict(x_train)\n",
    "    train_loss[i] = MAPE(pred, y_train)\n",
    "\n",
    "    pred = DT.predict(x_val)\n",
    "    val_loss[i] = MAPE(pred, y_val)\n",
    "\n",
    "plt.figure(figsize=(12, 4), dpi = 60)\n",
    "plt.subplot(1, 2, 1)\n",
    "plt.title('train')\n",
    "plt.scatter(x = params, y = train_loss)\n",
    "\n",
    "plt.subplot(1, 2, 2)\n",
    "plt.title('val')\n",
    "plt.scatter(x = params, y = val_loss)\n",
    "\n",
    "plt.show()"
   ]
  },
  {
   "cell_type": "code",
   "execution_count": 17,
   "metadata": {},
   "outputs": [
    {
     "data": {
      "image/png": "[encoded data removed]",
      "text/plain": [
       "<Figure size 720x240 with 2 Axes>"
      ]
     },
     "metadata": {
      "needs_background": "light"
     },
     "output_type": "display_data"
    }
   ],
   "source": [
    "# Tuning max_featues\n",
    "params = ['auto', 'sqrt', 'log2']\n",
    "train_loss = np.zeros(len(params))\n",
    "val_loss = np.zeros(len(params))\n",
    "\n",
    "for i, param in enumerate(params):\n",
    "    DT = DecisionTreeRegressor(\n",
    "                criterion = 'friedman_mse', max_depth = 25, min_samples_split = 5,\n",
    "                min_samples_leaf = 5, max_features = param, ccp_alpha = 200\n",
    "            )\n",
    "    DT.fit(x_train, y_train)\n",
    "\n",
    "    pred = DT.predict(x_train)\n",
    "    train_loss[i] = MAPE(pred, y_train)\n",
    "\n",
    "    pred = DT.predict(x_val)\n",
    "    val_loss[i] = MAPE(pred, y_val)\n",
    "\n",
    "plt.figure(figsize=(12, 4), dpi = 60)\n",
    "plt.subplot(1, 2, 1)\n",
    "plt.title('train')\n",
    "plt.scatter(x = params, y = train_loss)\n",
    "\n",
    "plt.subplot(1, 2, 2)\n",
    "plt.title('val')\n",
    "plt.scatter(x = params, y = val_loss)\n",
    "\n",
    "plt.show()\n"
   ]
  },
  {
   "cell_type": "code",
   "execution_count": 18,
   "metadata": {},
   "outputs": [
    {
     "name": "stdout",
     "output_type": "stream",
     "text": [
      "Train report\n",
      "mse = 895009695.3311\n",
      "mae = 18131.9080\n",
      "rmse = 29916.7126\n",
      "mape = 0.1056\n",
      "\n",
      "Validation report\n",
      "mse = 914918419.9395\n",
      "mae = 21322.8241\n",
      "rmse = 30247.6184\n",
      "mape = 0.1306\n",
      "\n",
      "Test report\n",
      "mse = 1506770028.1383\n",
      "mae = 23696.2842\n",
      "rmse = 38817.1358\n",
      "mape = 0.1378\n"
     ]
    }
   ],
   "source": [
    "DT = DecisionTreeRegressor(\n",
    "            criterion = 'friedman_mse', max_depth = 25, min_samples_split = 5,\n",
    "            min_samples_leaf = 13, max_features = 'auto', ccp_alpha = 200\n",
    ")\n",
    "\n",
    "DT.fit(x_train, y_train)\n",
    "\n",
    "print('Train report')\n",
    "pred = DT.predict(x_train)\n",
    "regression_report(y_train, pred)\n",
    "\n",
    "print()\n",
    "\n",
    "print('Validation report')\n",
    "pred = DT.predict(x_val)\n",
    "regression_report(y_val, pred)\n",
    "\n",
    "print()\n",
    "\n",
    "print('Test report')\n",
    "pred = DT.predict(x_test)\n",
    "regression_report(y_test, pred)"
   ]
  },
  {
   "cell_type": "code",
   "execution_count": null,
   "metadata": {},
   "outputs": [],
   "source": []
  }
 ],
 "metadata": {
  "interpreter": {
   "hash": "aee8b7b246df8f9039afb4144a1f6fd8d2ca17a180786b69acc140d282b71a49"
  },
  "kernelspec": {
   "display_name": "Python 3",
   "language": "python",
   "name": "python3"
  },
  "language_info": {
   "codemirror_mode": {
    "name": "ipython",
    "version": 3
   },
   "file_extension": ".py",
   "mimetype": "text/x-python",
   "name": "python",
   "nbconvert_exporter": "python",
   "pygments_lexer": "ipython3",
   "version": "3.8.8"
  }
 },
 "nbformat": 4,
 "nbformat_minor": 2
}
